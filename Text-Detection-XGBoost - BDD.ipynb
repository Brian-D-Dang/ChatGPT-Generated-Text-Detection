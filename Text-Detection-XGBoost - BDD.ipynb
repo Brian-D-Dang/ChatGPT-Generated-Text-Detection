{
 "cells": [
  {
   "cell_type": "code",
   "execution_count": 71,
   "id": "6d72065b",
   "metadata": {},
   "outputs": [],
   "source": [
    "import pandas as pd\n",
    "from sklearn.linear_model import LogisticRegression\n",
    "from sklearn.model_selection import train_test_split\n",
    "from sklearn.preprocessing import LabelEncoder\n",
    "from sklearn.preprocessing import StandardScaler\n",
    "\n",
    "from sklearn.ensemble import RandomForestClassifier"
   ]
  },
  {
   "cell_type": "code",
   "execution_count": 70,
   "id": "3b679bac",
   "metadata": {},
   "outputs": [],
   "source": [
    "text_detection_features = pd.read_csv(\"text-features - BDD.csv\").set_index('Id')\n",
    "\n",
    "X = text_detection_features.drop(columns=['Label'])\n",
    "y = text_detection_features['Label']\n",
    "\n",
    "standard_scale = StandardScaler()\n",
    "X = standard_scale.fit_transform(X)\n",
    "\n",
    "label_encoder = LabelEncoder()\n",
    "# 0 = Chatgpt | 1 = Human\n",
    "y = label_encoder.fit_transform(y)"
   ]
  },
  {
   "cell_type": "code",
   "execution_count": 68,
   "id": "adb22fbd",
   "metadata": {},
   "outputs": [],
   "source": [
    "X_train, X_test, y_train, y_test = train_test_split(X, y, test_size=0.3, random_state=42)"
   ]
  },
  {
   "cell_type": "code",
   "execution_count": 69,
   "id": "0aca4731",
   "metadata": {},
   "outputs": [
    {
     "data": {
      "text/plain": [
       "0.8552631578947368"
      ]
     },
     "execution_count": 69,
     "metadata": {},
     "output_type": "execute_result"
    }
   ],
   "source": [
    "lr = LogisticRegression()\n",
    "lr.fit(X_train,y_train)\n",
    "lr.score(X_test, y_test)\n",
    "\n",
    "random_forest = RandomForestClassifier()\n",
    "random_forest.fit(X_train,y_train)\n",
    "random_forest.score(X_test, y_test)"
   ]
  }
 ],
 "metadata": {
  "kernelspec": {
   "display_name": "Python 3 (ipykernel)",
   "language": "python",
   "name": "python3"
  },
  "language_info": {
   "codemirror_mode": {
    "name": "ipython",
    "version": 3
   },
   "file_extension": ".py",
   "mimetype": "text/x-python",
   "name": "python",
   "nbconvert_exporter": "python",
   "pygments_lexer": "ipython3",
   "version": "3.9.19"
  }
 },
 "nbformat": 4,
 "nbformat_minor": 5
}
