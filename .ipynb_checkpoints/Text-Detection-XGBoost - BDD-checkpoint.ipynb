{
 "cells": [
  {
   "cell_type": "code",
   "execution_count": 13,
   "id": "6d72065b",
   "metadata": {},
   "outputs": [],
   "source": [
    "import pandas as pd\n",
    "import numpy as np\n",
    "from sklearn.model_selection import train_test_split\n",
    "from sklearn.preprocessing import LabelEncoder\n",
    "from sklearn.preprocessing import StandardScaler\n",
    "from sklearn.model_selection import cross_val_score\n",
    "from sklearn.model_selection import KFold\n",
    "\n",
    "from sklearn.linear_model import LogisticRegression\n",
    "from sklearn.ensemble import RandomForestClassifier\n",
    "import xgboost as xgb"
   ]
  },
  {
   "cell_type": "markdown",
   "id": "9f4bfca8",
   "metadata": {},
   "source": [
    "## Text Detection Features"
   ]
  },
  {
   "cell_type": "code",
   "execution_count": 27,
   "id": "3b679bac",
   "metadata": {},
   "outputs": [],
   "source": [
    "text_detection_features = pd.read_csv(\"merged-text-features.csv\").drop(columns=[\"Total words_x\", \"Average words per sentence_x\"]).set_index('Id')\n",
    "\n",
    "X = text_detection_features.drop(columns=['Label'])\n",
    "y = text_detection_features['Label']\n",
    "\n",
    "standard_scale = StandardScaler()\n",
    "X = standard_scale.fit_transform(X)\n",
    "\n",
    "label_encoder = LabelEncoder()\n",
    "# 0 = Chatgpt | 1 = Human\n",
    "y = label_encoder.fit_transform(y)"
   ]
  },
  {
   "cell_type": "code",
   "execution_count": 3,
   "id": "adb22fbd",
   "metadata": {},
   "outputs": [],
   "source": [
    "X_train, X_test, y_train, y_test = train_test_split(X, y, test_size=0.3, random_state=42)"
   ]
  },
  {
   "cell_type": "markdown",
   "id": "958e80e3",
   "metadata": {},
   "source": [
    "### Logistic Regression"
   ]
  },
  {
   "cell_type": "code",
   "execution_count": 29,
   "id": "0aca4731",
   "metadata": {},
   "outputs": [
    {
     "name": "stdout",
     "output_type": "stream",
     "text": [
      "Logistic Regression cv: 0.9326274509803921\n"
     ]
    }
   ],
   "source": [
    "lr = LogisticRegression()\n",
    "print(f'Logistic Regression cv: {np.mean(cross_val_score(lr, X, y, cv=5))}')\n",
    "\n",
    "# kf = KFold(n_splits=5, random_state=42, shuffle=True)\n",
    "# print(kf.get_n_splits(X, y))\n",
    "# for i, (train_index, test_index) in enumerate(kf.split(X, y)):\n",
    "#         train_index\n",
    "# print(f'Logistic Regression : {np.mean(cross_val_score(lr, X, y, cv=5))}')\n",
    "# lr.fit(X_train,y_train)\n",
    "\n",
    "# lr.score(X_test, y_test)"
   ]
  },
  {
   "cell_type": "markdown",
   "id": "c32ed13c",
   "metadata": {},
   "source": [
    "### XGBoost"
   ]
  },
  {
   "cell_type": "code",
   "execution_count": 31,
   "id": "23d8d7e4",
   "metadata": {},
   "outputs": [
    {
     "name": "stdout",
     "output_type": "stream",
     "text": [
      "XGBoost: 0.9243921568627451\n"
     ]
    }
   ],
   "source": [
    "xgBoost = xgb.XGBClassifier()\n",
    "# xgBoost.fit(X_train, y_train)\n",
    "\n",
    "print(f'XGBoost: {np.mean(cross_val_score(xgBoost, X, y, cv=5))}')\n",
    "\n",
    "# print(f'XGBoost Accuracy: {xgBoost.score(X_test, y_test)}')\n",
    "# print(f'Cross Val Accuracy: {np.mean(cross_val_score(xgBoost, X_train, y_train, cv=5))}')"
   ]
  },
  {
   "cell_type": "markdown",
   "id": "9fe0d77b",
   "metadata": {},
   "source": [
    "## TFIDF features"
   ]
  },
  {
   "cell_type": "code",
   "execution_count": 45,
   "id": "b8aaa4f2",
   "metadata": {},
   "outputs": [],
   "source": [
    "tfidf_features = pd.read_csv(\"TFIDF-features.csv\").set_index('Id')\n",
    "\n",
    "X_tfidf = tfidf_features.drop(columns=['Label'])\n",
    "y_tfidf = tfidf_features['Label']\n",
    "\n",
    "standard_scale = StandardScaler()\n",
    "X_tfidf = standard_scale.fit_transform(X_tfidf)\n",
    "\n",
    "label_encoder = LabelEncoder()\n",
    "# 0 = Chatgpt | 1 = Human\n",
    "y_tfidf = label_encoder.fit_transform(y_tfidf)"
   ]
  },
  {
   "cell_type": "markdown",
   "id": "a4e55768",
   "metadata": {},
   "source": [
    "### Logistic Regression"
   ]
  },
  {
   "cell_type": "code",
   "execution_count": 47,
   "id": "5436189c",
   "metadata": {},
   "outputs": [
    {
     "name": "stdout",
     "output_type": "stream",
     "text": [
      "Logistic Regression cv: 0.9520784313725491\n"
     ]
    }
   ],
   "source": [
    "lr = LogisticRegression()\n",
    "print(f'Logistic Regression cv: {np.mean(cross_val_score(lr, X_tfidf, y_tfidf, cv=5))}')\n",
    "\n",
    "# kf = KFold(n_splits=5, random_state=42, shuffle=True)\n",
    "# print(kf.get_n_splits(X, y))\n",
    "# for i, (train_index, test_index) in enumerate(kf.split(X, y)):\n",
    "#         train_index\n",
    "# print(f'Logistic Regression : {np.mean(cross_val_score(lr, X, y, cv=5))}')\n",
    "# lr.fit(X_train,y_train)\n",
    "\n",
    "# lr.score(X_test, y_test)"
   ]
  },
  {
   "cell_type": "markdown",
   "id": "eb4e5d6d",
   "metadata": {},
   "source": [
    "### XGBoost"
   ]
  },
  {
   "cell_type": "code",
   "execution_count": 46,
   "id": "c151b036",
   "metadata": {},
   "outputs": [
    {
     "name": "stdout",
     "output_type": "stream",
     "text": [
      "XGBoost: 0.8966274509803922\n"
     ]
    }
   ],
   "source": [
    "xgBoost = xgb.XGBClassifier()\n",
    "# xgBoost.fit(X_train, y_train)\n",
    "\n",
    "print(f'XGBoost: {np.mean(cross_val_score(xgBoost, X_tfidf, y_tfidf, cv=5))}')\n",
    "\n",
    "# print(f'XGBoost Accuracy: {xgBoost.score(X_test, y_test)}')\n",
    "# print(f'Cross Val Accuracy: {np.mean(cross_val_score(xgBoost, X_train, y_train, cv=5))}')"
   ]
  }
 ],
 "metadata": {
  "kernelspec": {
   "display_name": "Python 3 (ipykernel)",
   "language": "python",
   "name": "python3"
  },
  "language_info": {
   "codemirror_mode": {
    "name": "ipython",
    "version": 3
   },
   "file_extension": ".py",
   "mimetype": "text/x-python",
   "name": "python",
   "nbconvert_exporter": "python",
   "pygments_lexer": "ipython3",
   "version": "3.9.19"
  }
 },
 "nbformat": 4,
 "nbformat_minor": 5
}
